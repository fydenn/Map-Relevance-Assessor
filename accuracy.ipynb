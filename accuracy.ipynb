{
 "cells": [
  {
   "cell_type": "code",
   "execution_count": 13,
   "id": "bdfb4d43",
   "metadata": {},
   "outputs": [],
   "source": [
    "import pandas as pd"
   ]
  },
  {
   "cell_type": "code",
   "execution_count": null,
   "id": "7f5930ac",
   "metadata": {},
   "outputs": [
    {
     "data": {
      "text/html": [
       "<div>\n",
       "<style scoped>\n",
       "    .dataframe tbody tr th:only-of-type {\n",
       "        vertical-align: middle;\n",
       "    }\n",
       "\n",
       "    .dataframe tbody tr th {\n",
       "        vertical-align: top;\n",
       "    }\n",
       "\n",
       "    .dataframe thead th {\n",
       "        text-align: right;\n",
       "    }\n",
       "</style>\n",
       "<table border=\"1\" class=\"dataframe\">\n",
       "  <thead>\n",
       "    <tr style=\"text-align: right;\">\n",
       "      <th></th>\n",
       "      <th>Text</th>\n",
       "      <th>name</th>\n",
       "      <th>relevance</th>\n",
       "    </tr>\n",
       "  </thead>\n",
       "  <tbody>\n",
       "    <tr>\n",
       "      <th>0</th>\n",
       "      <td>сигары</td>\n",
       "      <td>Tabaccos; Магазин Tabaccos; Табаккос</td>\n",
       "      <td>1</td>\n",
       "    </tr>\n",
       "    <tr>\n",
       "      <th>1</th>\n",
       "      <td>кальянная спб мероприятия</td>\n",
       "      <td>PioNero; Pionero; Пицца Паста бар; Pio Nero; P...</td>\n",
       "      <td>0</td>\n",
       "    </tr>\n",
       "    <tr>\n",
       "      <th>2</th>\n",
       "      <td>Эпиляция</td>\n",
       "      <td>MaxiLife; Центр красоты и здоровья MaxiLife; Ц...</td>\n",
       "      <td>1</td>\n",
       "    </tr>\n",
       "    <tr>\n",
       "      <th>4</th>\n",
       "      <td>стиральных машин</td>\n",
       "      <td>М.Видео; M Video; M. Видео; M.Видео; Mvideo; М...</td>\n",
       "      <td>1</td>\n",
       "    </tr>\n",
       "    <tr>\n",
       "      <th>5</th>\n",
       "      <td>сеть быстрого питания</td>\n",
       "      <td>Rostic's; KFC; Ресторан быстрого питания KFC</td>\n",
       "      <td>1</td>\n",
       "    </tr>\n",
       "  </tbody>\n",
       "</table>\n",
       "</div>"
      ],
      "text/plain": [
       "                        Text  \\\n",
       "0                     сигары   \n",
       "1  кальянная спб мероприятия   \n",
       "2                   Эпиляция   \n",
       "4           стиральных машин   \n",
       "5      сеть быстрого питания   \n",
       "\n",
       "                                                name  relevance  \n",
       "0               Tabaccos; Магазин Tabaccos; Табаккос          1  \n",
       "1  PioNero; Pionero; Пицца Паста бар; Pio Nero; P...          0  \n",
       "2  MaxiLife; Центр красоты и здоровья MaxiLife; Ц...          1  \n",
       "4  М.Видео; M Video; M. Видео; M.Видео; Mvideo; М...          1  \n",
       "5       Rostic's; KFC; Ресторан быстрого питания KFC          1  "
      ]
     },
     "execution_count": 14,
     "metadata": {},
     "output_type": "execute_result"
    }
   ],
   "source": [
    "data_dir = \"data\"\n",
    "\n",
    "data = pd.read_json(data_dir, lines = True)\n",
    "data = data[data['relevance'] != 0.1][['Text', 'name', 'relevance']]\n",
    "data['relevance'] = data['relevance'].astype(int)\n",
    "\n",
    "train_data = data[570:]\n",
    "eval_data = data[:570]\n",
    "\n",
    "data.head()"
   ]
  },
  {
   "cell_type": "code",
   "execution_count": null,
   "id": "f9a3afe9",
   "metadata": {},
   "outputs": [
    {
     "name": "stderr",
     "output_type": "stream",
     "text": [
      "d:\\data\\ai_agent\\agent.py:19: LangChainDeprecationWarning: The class `TavilySearchResults` was deprecated in LangChain 0.3.25 and will be removed in 1.0. An updated version of the class exists in the :class:`~langchain-tavily package and should be used instead. To use it run `pip install -U :class:`~langchain-tavily` and import as `from :class:`~langchain_tavily import TavilySearch``.\n",
      "  self.search_tool = TavilySearchResults(\n"
     ]
    }
   ],
   "source": [
    "from agent import AI_agent\n",
    "agent = AI_agent()\n",
    "\n",
    "def get_sample(row):\n",
    "    return f\"{row['Text']}. {row['name']}\"\n",
    "\n",
    "def get_accuracy(data):\n",
    "    correct = 0\n",
    "    total = 0\n",
    "\n",
    "    for i in range(len(data)):\n",
    "        row = data.iloc[i]\n",
    "        pred = int(agent.get_label(get_sample(row)))\n",
    "\n",
    "        if pred == row['relevance']: correct +=1\n",
    "\n",
    "        total += 1\n",
    "    \n",
    "\n",
    "    print(f\"Accuracy: {correct/total}\")\n",
    "    return correct/total\n",
    "    "
   ]
  },
  {
   "cell_type": "code",
   "execution_count": null,
   "id": "ba0ce672",
   "metadata": {},
   "outputs": [
    {
     "name": "stdout",
     "output_type": "stream",
     "text": [
      "Accuracy:0.6731578947368421\n"
     ]
    }
   ],
   "source": [
    "eval_acc = get_accuracy(eval_data)"
   ]
  }
 ],
 "metadata": {
  "kernelspec": {
   "display_name": ".venv",
   "language": "python",
   "name": "python3"
  },
  "language_info": {
   "codemirror_mode": {
    "name": "ipython",
    "version": 3
   },
   "file_extension": ".py",
   "mimetype": "text/x-python",
   "name": "python",
   "nbconvert_exporter": "python",
   "pygments_lexer": "ipython3",
   "version": "3.13.3"
  }
 },
 "nbformat": 4,
 "nbformat_minor": 5
}
